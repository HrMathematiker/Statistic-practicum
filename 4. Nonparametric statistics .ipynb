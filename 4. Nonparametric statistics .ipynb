{
 "cells": [
  {
   "cell_type": "code",
   "execution_count": 83,
   "metadata": {},
   "outputs": [],
   "source": [
    "import math\n",
    "import matplotlib.pyplot as plt\n",
    "import matplotlib.patches as mpatches\n",
    "import seaborn as sns\n",
    "import numpy as np\n",
    "import pandas as pd\n",
    "from statsmodels.distributions.empirical_distribution import ECDF\n",
    "from scipy.special import kolmogi"
   ]
  },
  {
   "cell_type": "code",
   "execution_count": 76,
   "metadata": {},
   "outputs": [],
   "source": [
    "%reload_ext pycodestyle_magic\n",
    "%pycodestyle_off"
   ]
  },
  {
   "cell_type": "code",
   "execution_count": 6,
   "metadata": {},
   "outputs": [],
   "source": [
    "cats_df = pd.read_csv('сorrect_cats.csv')\n",
    "cats_df = cats_df[['Sex', 'Bwt', 'Hwt']]\n",
    "cats_males = cats_df.loc[cats_df['Sex'] == 'M']\n",
    "cats_females = cats_df.loc[cats_df['Sex'] == 'F']"
   ]
  },
  {
   "cell_type": "code",
   "execution_count": 8,
   "metadata": {},
   "outputs": [
    {
     "data": {
      "text/html": [
       "<div>\n",
       "<style scoped>\n",
       "    .dataframe tbody tr th:only-of-type {\n",
       "        vertical-align: middle;\n",
       "    }\n",
       "\n",
       "    .dataframe tbody tr th {\n",
       "        vertical-align: top;\n",
       "    }\n",
       "\n",
       "    .dataframe thead th {\n",
       "        text-align: right;\n",
       "    }\n",
       "</style>\n",
       "<table border=\"1\" class=\"dataframe\">\n",
       "  <thead>\n",
       "    <tr style=\"text-align: right;\">\n",
       "      <th></th>\n",
       "      <th>Sex</th>\n",
       "      <th>Bwt</th>\n",
       "      <th>Hwt</th>\n",
       "    </tr>\n",
       "  </thead>\n",
       "  <tbody>\n",
       "    <tr>\n",
       "      <th>0</th>\n",
       "      <td>F</td>\n",
       "      <td>2.0</td>\n",
       "      <td>7.0</td>\n",
       "    </tr>\n",
       "    <tr>\n",
       "      <th>1</th>\n",
       "      <td>F</td>\n",
       "      <td>2.0</td>\n",
       "      <td>7.4</td>\n",
       "    </tr>\n",
       "    <tr>\n",
       "      <th>2</th>\n",
       "      <td>F</td>\n",
       "      <td>2.0</td>\n",
       "      <td>9.5</td>\n",
       "    </tr>\n",
       "    <tr>\n",
       "      <th>3</th>\n",
       "      <td>F</td>\n",
       "      <td>2.1</td>\n",
       "      <td>7.2</td>\n",
       "    </tr>\n",
       "    <tr>\n",
       "      <th>4</th>\n",
       "      <td>F</td>\n",
       "      <td>2.1</td>\n",
       "      <td>7.3</td>\n",
       "    </tr>\n",
       "    <tr>\n",
       "      <th>...</th>\n",
       "      <td>...</td>\n",
       "      <td>...</td>\n",
       "      <td>...</td>\n",
       "    </tr>\n",
       "    <tr>\n",
       "      <th>139</th>\n",
       "      <td>M</td>\n",
       "      <td>3.7</td>\n",
       "      <td>11.0</td>\n",
       "    </tr>\n",
       "    <tr>\n",
       "      <th>140</th>\n",
       "      <td>M</td>\n",
       "      <td>3.8</td>\n",
       "      <td>14.8</td>\n",
       "    </tr>\n",
       "    <tr>\n",
       "      <th>141</th>\n",
       "      <td>M</td>\n",
       "      <td>3.8</td>\n",
       "      <td>16.8</td>\n",
       "    </tr>\n",
       "    <tr>\n",
       "      <th>142</th>\n",
       "      <td>M</td>\n",
       "      <td>3.9</td>\n",
       "      <td>14.4</td>\n",
       "    </tr>\n",
       "    <tr>\n",
       "      <th>143</th>\n",
       "      <td>M</td>\n",
       "      <td>3.9</td>\n",
       "      <td>20.5</td>\n",
       "    </tr>\n",
       "  </tbody>\n",
       "</table>\n",
       "<p>144 rows × 3 columns</p>\n",
       "</div>"
      ],
      "text/plain": [
       "    Sex  Bwt   Hwt\n",
       "0     F  2.0   7.0\n",
       "1     F  2.0   7.4\n",
       "2     F  2.0   9.5\n",
       "3     F  2.1   7.2\n",
       "4     F  2.1   7.3\n",
       "..   ..  ...   ...\n",
       "139   M  3.7  11.0\n",
       "140   M  3.8  14.8\n",
       "141   M  3.8  16.8\n",
       "142   M  3.9  14.4\n",
       "143   M  3.9  20.5\n",
       "\n",
       "[144 rows x 3 columns]"
      ]
     },
     "execution_count": 8,
     "metadata": {},
     "output_type": "execute_result"
    }
   ],
   "source": [
    "cats_df"
   ]
  },
  {
   "cell_type": "markdown",
   "metadata": {},
   "source": [
    "# №1"
   ]
  },
  {
   "cell_type": "code",
   "execution_count": 128,
   "metadata": {},
   "outputs": [],
   "source": [
    "data = np.array([])\n",
    "for value in cats_males['Hwt']:\n",
    "    data = np.concatenate([hwt_diff, np.array(value-cats_females['Hwt'])])"
   ]
  },
  {
   "cell_type": "code",
   "execution_count": 129,
   "metadata": {},
   "outputs": [
    {
     "name": "stderr",
     "output_type": "stream",
     "text": [
      "1:1: E302 expected 2 blank lines, found 0\n"
     ]
    }
   ],
   "source": [
    "def mean_pivotal_boostrap_interval(data: list, alpha: float,\n",
    "                                   num_of_samples: int):\n",
    "    bootstrap_samples = []\n",
    "    for _ in range(num_of_samples):\n",
    "        new_bootstrap_sample = np.random.choice(hwt_diff, len(hwt_diff))\n",
    "        bootstrap_samples.append(new_bootstrap_sample)\n",
    "    bootstrap_estimations = list(map(np.mean, bootstrap_samples))\n",
    "    mean_estimation = np.mean(hwt_diff)\n",
    "    bootstrap_estimations = 2 * mean_estimation - bootstrap_estimations\n",
    "    bootstrap_estimations.sort()\n",
    "    lower_bound_num = math.floor(alpha * num_of_samples)\n",
    "    upper_bound_num = math.floor((1-alpha) * num_of_samples)\n",
    "    lower_bound = bootstrap_estimations[lower_bound_num]\n",
    "    upper_bound = bootstrap_estimations[upper_bound_num]\n",
    "    return (lower_bound, upper_bound)\n",
    "\n",
    "\n",
    "def mean_percentile_boostrap_interval(data: list, alpha: float,\n",
    "                                      num_of_samples: int):\n",
    "    bootstrap_samples = []\n",
    "    for _ in range(num_of_samples):\n",
    "        new_bootstrap_sample = np.random.choice(hwt_diff, len(hwt_diff))\n",
    "        bootstrap_samples.append(new_bootstrap_sample)\n",
    "    bootstrap_estimations = list(map(np.mean, bootstrap_samples))\n",
    "    bootstrap_estimations.sort()\n",
    "    lower_bound_num = math.floor(alpha * num_of_samples)\n",
    "    upper_bound_num = math.floor((1-alpha) * num_of_samples)\n",
    "    lower_bound = bootstrap_estimations[lower_bound_num]\n",
    "    upper_bound = bootstrap_estimations[upper_bound_num]\n",
    "    return (lower_bound, upper_bound)"
   ]
  },
  {
   "cell_type": "code",
   "execution_count": 130,
   "metadata": {},
   "outputs": [
    {
     "name": "stdout",
     "output_type": "stream",
     "text": [
      "pivotal: (2.054, 2.209)\n",
      "percentile: (2.06, 2.188)\n"
     ]
    }
   ],
   "source": [
    "pivotal_interval = mean_pivotal_boostrap_interval(hwt_diff, 0.05, 100)\n",
    "percentile_interval = mean_percentile_boostrap_interval(hwt_diff, 0.05, 100)\n",
    "print('pivotal: ({:.4}, {:.4})'.format(pivotal_interval[0],\n",
    "                                       pivotal_interval[1]))\n",
    "print('percentile: ({:.4}, {:.4})'.format(percentile_interval[0],\n",
    "                                          percentile_interval[1]))"
   ]
  },
  {
   "cell_type": "markdown",
   "metadata": {},
   "source": [
    "# №2"
   ]
  },
  {
   "cell_type": "code",
   "execution_count": null,
   "metadata": {},
   "outputs": [],
   "source": []
  },
  {
   "cell_type": "markdown",
   "metadata": {},
   "source": [
    "# №3"
   ]
  },
  {
   "cell_type": "code",
   "execution_count": 125,
   "metadata": {},
   "outputs": [],
   "source": [
    "data = np.array(cats_df['Bwt'])"
   ]
  },
  {
   "cell_type": "code",
   "execution_count": 126,
   "metadata": {},
   "outputs": [
    {
     "name": "stderr",
     "output_type": "stream",
     "text": [
      "2:1: E302 expected 2 blank lines, found 0\n"
     ]
    }
   ],
   "source": [
    "# Dvoretzky–Kiefer–Wolfowitz\n",
    "def dkv_conf_interval(x: float, data: list, alpha: float):\n",
    "    data_size = len(data)\n",
    "    eps = math.sqrt(-math.log(0.5*alpha) / (2*data_size))\n",
    "    lower_bound = max(ECDF(data)(x) - eps, 0)\n",
    "    upper_bound = min(ECDF(data)(x) + eps, 1)\n",
    "    return (lower_bound, upper_bound)\n",
    "\n",
    "\n",
    "def kolmogorov_conf_interval(x: float, data: list, alpha: float):\n",
    "    data_size = len(data)\n",
    "    lower_bound = max(ECDF(data)(x) -\n",
    "                      kolmogi(1 - alpha)/math.sqrt(data_size), 0)\n",
    "    upper_bound = min(ECDF(data)(x) +\n",
    "                      kolmogi(1 - alpha)/math.sqrt(data_size), 1)\n",
    "    return (lower_bound, upper_bound)"
   ]
  },
  {
   "cell_type": "code",
   "execution_count": 127,
   "metadata": {},
   "outputs": [
    {
     "data": {
      "image/png": "[encoded data removed]",
      "text/plain": [
       "<Figure size 1080x720 with 1 Axes>"
      ]
     },
     "metadata": {
      "needs_background": "light"
     },
     "output_type": "display_data"
    }
   ],
   "source": [
    "x = np.arange(min(data), max(data), 0.01)\n",
    "dkv_lower_bound_values = [dkv_conf_interval(x_val, data, 0.05)[0]\n",
    "                          for x_val in x]\n",
    "dkv_upper_bound_values = [dkv_conf_interval(x_val, data, 0.05)[1]\n",
    "                          for x_val in x]\n",
    "kolm_lower_bound_values = [kolmogorov_conf_interval(x_val, data, 0.05)[0]\n",
    "                           for x_val in x]\n",
    "kolm_upper_bound_values = [kolmogorov_conf_interval(x_val, data, 0.05)[1]\n",
    "                           for x_val in x]\n",
    "plt.figure(figsize=(15, 10))\n",
    "red_patch = mpatches.Patch(color='red',\n",
    "                           label='Dvoretzky–Kiefer–Wolfowitz band')\n",
    "green_patch = mpatches.Patch(color='green', label='Kolmogorov band')\n",
    "blue_patch = mpatches.Patch(color='blue', label='ECDF')\n",
    "plt.legend(handles=[red_patch, blue_patch, green_patch], loc='upper left')\n",
    "plt.plot(x, dkv_lower_bound_values, 'r')\n",
    "plt.plot(x, ECDF(data)(x), 'b')\n",
    "plt.plot(x, dkv_upper_bound_values, 'r')\n",
    "plt.plot(x, kolm_lower_bound_values, 'g')\n",
    "plt.plot(x, kolm_upper_bound_values, 'g')\n",
    "plt.show()"
   ]
  }
 ],
 "metadata": {
  "kernelspec": {
   "display_name": "Python 3",
   "language": "python",
   "name": "python3"
  },
  "language_info": {
   "codemirror_mode": {
    "name": "ipython",
    "version": 3
   },
   "file_extension": ".py",
   "mimetype": "text/x-python",
   "name": "python",
   "nbconvert_exporter": "python",
   "pygments_lexer": "ipython3",
   "version": "3.7.6"
  }
 },
 "nbformat": 4,
 "nbformat_minor": 4
}
