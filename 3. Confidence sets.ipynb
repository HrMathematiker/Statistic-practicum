{
 "cells": [
  {
   "cell_type": "code",
   "execution_count": 1,
   "metadata": {},
   "outputs": [],
   "source": [
    "import math\n",
    "import matplotlib.pyplot as plt\n",
    "import seaborn as sns\n",
    "import numpy as np\n",
    "import pandas as pd\n",
    "from scipy.stats import chi2, norm, pearsonr\n",
    "import matplotlib.ticker as ticker"
   ]
  },
  {
   "cell_type": "code",
   "execution_count": 1,
   "metadata": {},
   "outputs": [],
   "source": [
    "%reload_ext pycodestyle_magic"
   ]
  },
  {
   "cell_type": "code",
   "execution_count": 134,
   "metadata": {},
   "outputs": [],
   "source": [
    "%pycodestyle_off"
   ]
  },
  {
   "cell_type": "markdown",
   "metadata": {},
   "source": [
    "# № 1 "
   ]
  },
  {
   "cell_type": "markdown",
   "metadata": {},
   "source": [
    "Параметрические доверительные интервалы с помощью bootstrap методами normal, percentile, pivotal.\n",
    "\n",
    "2 столбца данных считаются выборкой двухмерных нормальных векторов (так как их плотности схожи с нормальными).\n",
    "\n",
    "Интервалы строятся для коэффициента корреляции Пирсона."
   ]
  },
  {
   "cell_type": "code",
   "execution_count": 39,
   "metadata": {
    "scrolled": true
   },
   "outputs": [],
   "source": [
    "data = pd.read_csv('lsat.csv', sep=';')"
   ]
  },
  {
   "cell_type": "code",
   "execution_count": 40,
   "metadata": {},
   "outputs": [
    {
     "data": {
      "text/html": [
       "<div>\n",
       "<style scoped>\n",
       "    .dataframe tbody tr th:only-of-type {\n",
       "        vertical-align: middle;\n",
       "    }\n",
       "\n",
       "    .dataframe tbody tr th {\n",
       "        vertical-align: top;\n",
       "    }\n",
       "\n",
       "    .dataframe thead th {\n",
       "        text-align: right;\n",
       "    }\n",
       "</style>\n",
       "<table border=\"1\" class=\"dataframe\">\n",
       "  <thead>\n",
       "    <tr style=\"text-align: right;\">\n",
       "      <th></th>\n",
       "      <th>LSAT</th>\n",
       "      <th>GPA</th>\n",
       "    </tr>\n",
       "  </thead>\n",
       "  <tbody>\n",
       "    <tr>\n",
       "      <th>1</th>\n",
       "      <td>622</td>\n",
       "      <td>3.23</td>\n",
       "    </tr>\n",
       "    <tr>\n",
       "      <th>2</th>\n",
       "      <td>542</td>\n",
       "      <td>2.83</td>\n",
       "    </tr>\n",
       "    <tr>\n",
       "      <th>3</th>\n",
       "      <td>579</td>\n",
       "      <td>3.24</td>\n",
       "    </tr>\n",
       "    <tr>\n",
       "      <th>4</th>\n",
       "      <td>653</td>\n",
       "      <td>3.12</td>\n",
       "    </tr>\n",
       "    <tr>\n",
       "      <th>5</th>\n",
       "      <td>606</td>\n",
       "      <td>3.09</td>\n",
       "    </tr>\n",
       "  </tbody>\n",
       "</table>\n",
       "</div>"
      ],
      "text/plain": [
       "   LSAT   GPA\n",
       "1   622  3.23\n",
       "2   542  2.83\n",
       "3   579  3.24\n",
       "4   653  3.12\n",
       "5   606  3.09"
      ]
     },
     "execution_count": 40,
     "metadata": {},
     "output_type": "execute_result"
    }
   ],
   "source": [
    "data.head()"
   ]
  },
  {
   "cell_type": "code",
   "execution_count": 43,
   "metadata": {},
   "outputs": [
    {
     "data": {
      "image/png": "[encoded data removed]",
      "text/plain": [
       "<Figure size 720x360 with 2 Axes>"
      ]
     },
     "metadata": {
      "needs_background": "light"
     },
     "output_type": "display_data"
    }
   ],
   "source": [
    "plt.figure(figsize=(10, 5))\n",
    "plt.subplot(1, 2, 1)\n",
    "sns.kdeplot(data['GPA'], shade='True')\n",
    "plt.subplot(1, 2, 2)\n",
    "sns.kdeplot(data['LSAT'], shade='True', color='orange')\n",
    "plt.tight_layout()"
   ]
  },
  {
   "cell_type": "code",
   "execution_count": 77,
   "metadata": {},
   "outputs": [],
   "source": [
    "mean_vector = np.mean([data['LSAT'], data['GPA']], axis=1)\n",
    "covariance_matrix = np.cov(data['LSAT'], data['GPA'])\n",
    "pearson_coef = pearsonr(data['LSAT'], data['GPA'])[0]"
   ]
  },
  {
   "cell_type": "code",
   "execution_count": 135,
   "metadata": {},
   "outputs": [],
   "source": [
    "def pearson_normal_bootstrap(data1: list, data2: list, alpha: float,\n",
    "                             num_of_samples: int):\n",
    "    if len(data1) != len(data2):\n",
    "        raise Exception('Sizes of data1 and data2 must be equal')\n",
    "    else:\n",
    "        data_size = len(data1)\n",
    "    mean_vector = np.mean([data1, data2], axis=1)\n",
    "    covariance_matrix = np.cov(data1, data2)\n",
    "    pearson_coef = pearsonr(data1, data2)[0]\n",
    "    bootstrap_samples = list()\n",
    "    for _ in range(num_of_samples):\n",
    "        new_sample = np.random.multivariate_normal(mean_vector,\n",
    "                                                   covariance_matrix,\n",
    "                                                   size=data_size)\n",
    "        bootstrap_samples.append(new_sample.T)\n",
    "    var_list = [(pearsonr(sample[0], sample[1])[0] - pearson_coef)**2\n",
    "                for sample in bootstrap_samples]\n",
    "    variance = np.mean(var_list)\n",
    "    standard_deviation = np.sqrt(variance)\n",
    "    lower_bound = pearson_coef - norm.ppf(1 - alpha/2)*standard_deviation\n",
    "    lower_bound = round(lower_bound, 3)\n",
    "    upper_bound = pearson_coef + norm.ppf(1 - alpha/2)*standard_deviation\n",
    "    upper_bound = round(upper_bound, 3)\n",
    "    return (lower_bound, upper_bound)\n",
    "\n",
    "\n",
    "def pearson_percentile_bootstrap(data1: list, data2: list, alpha: float,\n",
    "                                 num_of_samples: int):\n",
    "    if len(data1) != len(data2):\n",
    "        raise Exception('Sizes of data1 and data2 must be equal')\n",
    "    else:\n",
    "        data_size = len(data1)\n",
    "    mean_vector = np.mean([data1, data2], axis=1)\n",
    "    covariance_matrix = np.cov(data1, data2)\n",
    "    bootstrap_samples = list()\n",
    "    for _ in range(num_of_samples):\n",
    "        new_sample = np.random.multivariate_normal(mean_vector,\n",
    "                                                   covariance_matrix,\n",
    "                                                   size=data_size)\n",
    "        bootstrap_samples.append(new_sample.T)\n",
    "    bootstrap_estimations = [pearsonr(sample[0], sample[1])[0]\n",
    "                             for sample in bootstrap_samples]\n",
    "    bootstrap_estimations.sort()\n",
    "    lower_quantile = math.floor((alpha/2) * num_of_samples)\n",
    "    upper_quantile = math.floor((1-alpha/2) * num_of_samples)\n",
    "    lower_bound = bootstrap_estimations[lower_quantile]\n",
    "    lower_bound = round(lower_bound, 3)\n",
    "    upper_bound = bootstrap_estimations[upper_quantile]\n",
    "    upper_bound = round(upper_bound, 3)\n",
    "    return (lower_bound, upper_bound)\n",
    "\n",
    "\n",
    "def pearson_pivotal_bootstrap(data1: list, data2: list, alpha: float,\n",
    "                              num_of_samples: int):\n",
    "    if len(data1) != len(data2):\n",
    "        raise Exception('Sizes of data1 and data2 must be equal')\n",
    "    else:\n",
    "        data_size = len(data1)\n",
    "    mean_vector = np.mean([data1, data2], axis=1)\n",
    "    covariance_matrix = np.cov(data1, data2)\n",
    "    pearson_coef = pearsonr(data1, data2)[0]\n",
    "    bootstrap_samples = list()\n",
    "    for _ in range(num_of_samples):\n",
    "        new_sample = np.random.multivariate_normal(mean_vector,\n",
    "                                                   covariance_matrix,\n",
    "                                                   size=data_size)\n",
    "        bootstrap_samples.append(new_sample.T)\n",
    "    bootstrap_estimations = [pearsonr(sample[0], sample[1])[0]\n",
    "                             for sample in bootstrap_samples]\n",
    "    bootstrap_estimations.sort()\n",
    "    lower_quantile = math.floor((1-alpha/2) * num_of_samples)\n",
    "    upper_quantile = math.floor((alpha/2) * num_of_samples)\n",
    "    lower_bound = 2*pearson_coef - bootstrap_estimations[lower_quantile]\n",
    "    lower_bound = round(lower_bound, 3)\n",
    "    upper_bound = 2*pearson_coef - bootstrap_estimations[upper_quantile]\n",
    "    upper_bound = round(upper_bound, 3)\n",
    "    return (lower_bound, upper_bound)"
   ]
  },
  {
   "cell_type": "code",
   "execution_count": 137,
   "metadata": {},
   "outputs": [
    {
     "name": "stdout",
     "output_type": "stream",
     "text": [
      "normal interval: (0.67, 0.85)\n",
      "percentile interval: (0.658, 0.838)\n",
      "pivotal interval: (0.675, 0.87)\n"
     ]
    }
   ],
   "source": [
    "alpha = 0.05\n",
    "num_of_samples = 1000\n",
    "normal = pearson_normal_bootstrap(data['LSAT'], data['GPA'],\n",
    "                                  alpha, num_of_samples)\n",
    "percentile = pearson_percentile_bootstrap(data['LSAT'], data['GPA'],\n",
    "                                          alpha, num_of_samples)\n",
    "pivotal = pearson_pivotal_bootstrap(data['LSAT'], data['GPA'],\n",
    "                                    alpha, num_of_samples)\n",
    "print('normal interval:', normal)\n",
    "print('percentile interval:', percentile)\n",
    "print('pivotal interval:', pivotal)"
   ]
  },
  {
   "cell_type": "markdown",
   "metadata": {},
   "source": [
    "# № 2"
   ]
  },
  {
   "cell_type": "markdown",
   "metadata": {},
   "source": [
    "Доверительный эллипс для параметров p1 и p2 мультиномиального распределения.\n",
    "\n",
    "ОМП для мультиномиального распределения: $$\\hat{p_i} = \\frac{n_i}{n}$$ Асимптотическая матрица ковариации: $$\\Sigma(\\hat{p})= \n",
    "\\begin{pmatrix}\n",
    "\\hat{p_1}(1-\\hat{p_1}) & -\\hat{p_1}\\hat{p_2} \\\\\n",
    "-\\hat{p_1}\\hat{p_2} & \\hat{p_2}(1-\\hat{p_2}) \n",
    "\\end{pmatrix}$$"
   ]
  },
  {
   "cell_type": "code",
   "execution_count": 147,
   "metadata": {},
   "outputs": [
    {
     "data": {
      "text/html": [
       "<div>\n",
       "<style scoped>\n",
       "    .dataframe tbody tr th:only-of-type {\n",
       "        vertical-align: middle;\n",
       "    }\n",
       "\n",
       "    .dataframe tbody tr th {\n",
       "        vertical-align: top;\n",
       "    }\n",
       "\n",
       "    .dataframe thead th {\n",
       "        text-align: right;\n",
       "    }\n",
       "</style>\n",
       "<table border=\"1\" class=\"dataframe\">\n",
       "  <thead>\n",
       "    <tr style=\"text-align: right;\">\n",
       "      <th></th>\n",
       "      <th>1</th>\n",
       "      <th>2</th>\n",
       "      <th>3</th>\n",
       "      <th>4</th>\n",
       "      <th>5</th>\n",
       "      <th>6</th>\n",
       "      <th>7</th>\n",
       "      <th>8</th>\n",
       "      <th>9</th>\n",
       "    </tr>\n",
       "  </thead>\n",
       "  <tbody>\n",
       "    <tr>\n",
       "      <th>0</th>\n",
       "      <td>3</td>\n",
       "      <td>10</td>\n",
       "      <td>16</td>\n",
       "      <td>13</td>\n",
       "      <td>16</td>\n",
       "      <td>19</td>\n",
       "      <td>18</td>\n",
       "      <td>13</td>\n",
       "      <td>10</td>\n",
       "    </tr>\n",
       "  </tbody>\n",
       "</table>\n",
       "</div>"
      ],
      "text/plain": [
       "   1   2   3   4   5   6   7   8   9\n",
       "0  3  10  16  13  16  19  18  13  10"
      ]
     },
     "execution_count": 147,
     "metadata": {},
     "output_type": "execute_result"
    }
   ],
   "source": [
    "input_table = pd.read_csv('test.csv')\n",
    "input_table"
   ]
  },
  {
   "cell_type": "code",
   "execution_count": 148,
   "metadata": {},
   "outputs": [],
   "source": [
    "input_array = np.array(input_table.iloc[0])"
   ]
  },
  {
   "cell_type": "code",
   "execution_count": 407,
   "metadata": {},
   "outputs": [],
   "source": [
    "def covariance_matrix(estimations_ls):\n",
    "    p1, p2 = estimations_ls\n",
    "    matrix = np.array([[p1*(1-p1), -p1*p2],\n",
    "                       [-p1*p2, p2*(1-p2)]])\n",
    "    return matrix"
   ]
  },
  {
   "cell_type": "code",
   "execution_count": 408,
   "metadata": {},
   "outputs": [],
   "source": [
    "bad_guys = sum(input_array[:5])\n",
    "middle_guys = sum(input_array[5:7])\n",
    "good_guys = sum(input_array[7:])\n",
    "gen_count = sum(input_array)\n",
    "estimations = np.array([good_guys, middle_guys]) / gen_count\n",
    "cov_matrix = covariance_matrix(estimations)\n",
    "inv_matrix = np.linalg.inv(cov_matrix)"
   ]
  },
  {
   "cell_type": "code",
   "execution_count": 409,
   "metadata": {},
   "outputs": [],
   "source": [
    "p1 = np.linspace(0, 1, 1000)\n",
    "p2 = np.linspace(0, 1, 1000)\n",
    "P1, P2 = np.meshgrid(p1, p2)\n",
    "P1 = estimations[0] - P1\n",
    "P2 = estimations[1] - P2\n",
    "F = inv_matrix[0][0]*P1**2 + inv_matrix[1][1]*P2**2 + 2*inv_matrix[0][1]*P1*P2 "
   ]
  },
  {
   "cell_type": "code",
   "execution_count": 413,
   "metadata": {},
   "outputs": [
    {
     "data": {
      "image/png": "[encoded data removed]",
      "text/plain": [
       "<Figure size 432x288 with 1 Axes>"
      ]
     },
     "metadata": {
      "needs_background": "light"
     },
     "output_type": "display_data"
    }
   ],
   "source": [
    "alpha = 0.05\n",
    "quantile = chi2.ppf(q=1-alpha, df=2) / gen_count\n",
    "plt.contour(P1+estimations[0], P2+estimations[1], F, [quantile])\n",
    "plt.xlabel('P1')\n",
    "plt.ylabel('P2')\n",
    "plt.xlim([0, 0.5])\n",
    "plt.ylim([0.1, 0.6])\n",
    "plt.scatter(estimations[0], estimations[1], color='red')\n",
    "plt.show()"
   ]
  },
  {
   "cell_type": "markdown",
   "metadata": {},
   "source": [
    "# № 3"
   ]
  },
  {
   "cell_type": "markdown",
   "metadata": {},
   "source": [
    "В файле Inspection Data.txt приведены данные об инспекциях на некоторых объектах. \n",
    "Указан номер инспекции, после которой впервые были обнаружены нарушения. Построить доверительный интервал для вероятности нарушения, считая, что инспекции независимы и обнаруживают нарушение с вероятностью p."
   ]
  },
  {
   "cell_type": "code",
   "execution_count": 3,
   "metadata": {},
   "outputs": [],
   "source": [
    "input_str = str()\n",
    "with open('Inspection Data.txt', 'r') as file:\n",
    "    for row in file:\n",
    "        input_str += row\n",
    "input_list = input_str.split()\n",
    "input_list = np.array(input_list).astype(int)"
   ]
  },
  {
   "cell_type": "code",
   "execution_count": 17,
   "metadata": {},
   "outputs": [],
   "source": [
    "def method_of_moments_interval(data: list, alpha: float):\n",
    "    data = np.array(data)\n",
    "    mean = np.mean(data)\n",
    "    data_size = len(data)\n",
    "    prob_estimation = 1 / mean\n",
    "    variance_est = np.mean(data**2) - mean**2\n",
    "    asympoptic_var = variance_est / mean**4\n",
    "    quantile_multiplier = np.sqrt(asympoptic_var / data_size)\n",
    "    lower_bound = prob_estimation - norm.ppf(1 - alpha/2)*quantile_multiplier\n",
    "    upper_bound = prob_estimation - norm.ppf(alpha/2)*quantile_multiplier\n",
    "    return (lower_bound, upper_bound)\n",
    "\n",
    "\n",
    "def geomprob_pivotal_bootstrap(data: list, alpha: float,\n",
    "                               num_of_samples: int):\n",
    "    data_size = len(data)\n",
    "    prob_estimation = 1 / np.mean(data)\n",
    "    bootstrap_samples = list()\n",
    "    for _ in range(num_of_samples):\n",
    "        new_sample = np.random.geometric(p=prob_estimation,\n",
    "                                         size=data_size)\n",
    "        bootstrap_samples.append(new_sample)\n",
    "    bootstrap_estimations = [1 / np.mean(sample) for sample\n",
    "                             in bootstrap_samples]\n",
    "    bootstrap_estimations.sort()\n",
    "    lower_quantile = math.floor((1-alpha/2) * num_of_samples)\n",
    "    upper_quantile = math.floor((alpha/2) * num_of_samples)\n",
    "    lower_bound = 2*prob_estimation - bootstrap_estimations[lower_quantile]\n",
    "    lower_bound = round(lower_bound, 3)\n",
    "    upper_bound = 2*prob_estimation - bootstrap_estimations[upper_quantile]\n",
    "    upper_bound = round(upper_bound, 3)\n",
    "    return (lower_bound, upper_bound)"
   ]
  },
  {
   "cell_type": "code",
   "execution_count": 16,
   "metadata": {},
   "outputs": [
    {
     "name": "stdout",
     "output_type": "stream",
     "text": [
      "Method of moments confidence interval: (0.084, 0.191)\n"
     ]
    }
   ],
   "source": [
    "lower_bound, upper_bound = method_of_moments_interval(input_list, 0.05)\n",
    "print(f'Method of moments confidence interval: ({lower_bound:.3f}, {upper_bound:.3f})')"
   ]
  },
  {
   "cell_type": "code",
   "execution_count": 41,
   "metadata": {},
   "outputs": [
    {
     "name": "stdout",
     "output_type": "stream",
     "text": [
      "Pivotal bootstrap confidence interval: (0.092, 0.181)\n"
     ]
    }
   ],
   "source": [
    "lower_bound, upper_bound = geomprob_pivotal_bootstrap(input_list, 0.05, 100)\n",
    "print(f'Pivotal bootstrap confidence interval: ({lower_bound:.3f}, {upper_bound:.3f})')"
   ]
  }
 ],
 "metadata": {
  "kernelspec": {
   "display_name": "Python 3",
   "language": "python",
   "name": "python3"
  },
  "language_info": {
   "codemirror_mode": {
    "name": "ipython",
    "version": 3
   },
   "file_extension": ".py",
   "mimetype": "text/x-python",
   "name": "python",
   "nbconvert_exporter": "python",
   "pygments_lexer": "ipython3",
   "version": "3.7.6"
  }
 },
 "nbformat": 4,
 "nbformat_minor": 4
}
