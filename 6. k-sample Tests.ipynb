{
 "cells": [
  {
   "cell_type": "code",
   "execution_count": 2,
   "metadata": {},
   "outputs": [],
   "source": [
    "import typing as tp\n",
    "\n",
    "import numpy as np\n",
    "import pandas as pd\n",
    "import matplotlib.pyplot as plt\n",
    "import matplotlib.patches as mpatches\n",
    "import seaborn as sns\n",
    "import scipy.stats as stats\n",
    "from statsmodels.distributions.empirical_distribution import ECDF"
   ]
  },
  {
   "cell_type": "code",
   "execution_count": 2,
   "metadata": {},
   "outputs": [],
   "source": [
    "%load_ext pycodestyle_magic\n",
    "%pycodestyle_on\n",
    "\n",
    "%load_ext mypy_ipython"
   ]
  },
  {
   "cell_type": "markdown",
   "metadata": {},
   "source": [
    "# №1"
   ]
  },
  {
   "cell_type": "markdown",
   "metadata": {},
   "source": [
    "### Условие:"
   ]
  },
  {
   "cell_type": "markdown",
   "metadata": {},
   "source": [
    "Сравнить на выборках $\\mathcal{N} (1, 1)$ и $\\mathcal{N} (2, 4)$ размера а) 20 б) 100 критерии Манна-Уитни,\n",
    "Смирнова, Баумгартнера-Вейсса-Шиндлера. У последнего критерия в Python нет реализации, поэтому используйте permutation подход для вычисления уровня значимости."
   ]
  },
  {
   "cell_type": "markdown",
   "metadata": {},
   "source": [
    "### Решение:"
   ]
  },
  {
   "cell_type": "markdown",
   "metadata": {},
   "source": [
    "Для начала напишем необходимые функции, вычисляющие p-value критерия Баумгартнера-Вейсса-Шиндлера. Для этого реализуем метод перестановок."
   ]
  },
  {
   "cell_type": "code",
   "execution_count": 20,
   "metadata": {},
   "outputs": [],
   "source": [
    "def permutation_method(first_data: np.ndarray, second_data: np.ndarray,\n",
    "                       statistic: tp.Callable[[np.ndarray, np.ndarray], float],\n",
    "                       permutations_number: int) -> float:\n",
    "    true_statistic_value = statistic(first_data, second_data)\n",
    "    united_data = np.concatenate([first_data, second_data])\n",
    "    p_value = 0\n",
    "    for _ in range(permutations_number):\n",
    "        data_permutation = np.random.permutation(united_data)\n",
    "        stat_value = statistic(data_permutation[:first_data.size],\n",
    "                               data_permutation[first_data.size:])\n",
    "        p_value += stat_value > true_statistic_value\n",
    "    return p_value / permutations_number\n",
    "\n",
    "\n",
    "def BWStest_statistic(first_data: np.ndarray,\n",
    "                      second_data: np.ndarray) -> float:\n",
    "    if not first_data.size or not second_data.size:\n",
    "        raise Exception(\"Data is empty!\")\n",
    "\n",
    "    united_data = np.concatenate([first_data, second_data])\n",
    "    united_ranks = stats.rankdata(united_data, method='ordinal')\n",
    "    first_data_ranks = united_ranks[:first_data.size]\n",
    "    second_data_ranks = united_ranks[first_data.size:]\n",
    "\n",
    "    first_data_ranks.sort()\n",
    "    second_data_ranks.sort()\n",
    "    n = first_data.size\n",
    "    m = second_data.size\n",
    "\n",
    "    B_X = sum((rank - (i+1)*(n+m)/n)**2 / ((i+1) * (1 - (i+1)/(n+1)))\n",
    "              for i, rank in enumerate(first_data_ranks))\n",
    "    B_X *= (n+1) / (m*(n+m))\n",
    "\n",
    "    B_Y = sum((rank - (i+1)*(n+m)/m)**2 / ((i+1) * (1 - (i+1)/(m+1)))\n",
    "              for i, rank in enumerate(second_data_ranks))\n",
    "    B_Y *= (m+1) / (n*(n+m))\n",
    "\n",
    "    return (B_X+B_Y) / 2"
   ]
  },
  {
   "cell_type": "markdown",
   "metadata": {},
   "source": [
    "Теперь сравним критерии. Для этого построим графики ЭФР p-value для каждого из критериев."
   ]
  },
  {
   "cell_type": "code",
   "execution_count": 4,
   "metadata": {},
   "outputs": [],
   "source": [
    "def get_mannwhitneyu_pvalues(number_of_samples: int,\n",
    "                             sample_size: int) -> tp.List[float]:\n",
    "    return [stats.mannwhitneyu(stats.norm.rvs(1, 1, sample_size),\n",
    "                               stats.norm.rvs(2, 2, sample_size)).pvalue\n",
    "            for _ in range(number_of_samples)]\n",
    "\n",
    "\n",
    "def get_ks_2samp_pvalues(number_of_samples: int,\n",
    "                         sample_size: int) -> tp.List[float]:\n",
    "    return [stats.ks_2samp(stats.norm.rvs(1, 1, sample_size),\n",
    "                           stats.norm.rvs(2, 2, sample_size)).pvalue\n",
    "            for _ in range(number_of_samples)]\n",
    "\n",
    "\n",
    "def get_BWStest_pvalues(number_of_samples: int,\n",
    "                        sample_size: int,\n",
    "                        number_of_permutations: int = 500) -> tp.List[float]:\n",
    "    return [permutation_method(stats.norm.rvs(1, 1, sample_size),\n",
    "                               stats.norm.rvs(2, 2, sample_size),\n",
    "                               BWStest_statistic,\n",
    "                               number_of_permutations)\n",
    "            for _ in range(number_of_samples)]"
   ]
  },
  {
   "cell_type": "code",
   "execution_count": 5,
   "metadata": {},
   "outputs": [],
   "source": [
    "def build_pvalue_plots(number_of_samples: int, sample_size: int) -> None:\n",
    "    x = np.arange(0, 1, 0.01)\n",
    "\n",
    "    plt.figure(figsize=(15, 10))\n",
    "    red_patch = mpatches.Patch(color='red', label='Smirnov')\n",
    "    blue_patch = mpatches.Patch(color='blue', label='Mann-Whitney')\n",
    "    green_patch = mpatches.Patch(color='green', label='BWS')\n",
    "\n",
    "    plt.title(label='ECDFs of p-values')\n",
    "    plt.legend(handles=[red_patch, blue_patch, green_patch], loc='upper right')\n",
    "    plt.plot(x, ECDF(get_ks_2samp_pvalues(number_of_samples,\n",
    "                                          sample_size))(x), 'r')\n",
    "    plt.plot(x, ECDF(get_mannwhitneyu_pvalues(number_of_samples,\n",
    "                                              sample_size))(x), 'b')\n",
    "    plt.plot(x, ECDF(get_BWStest_pvalues(number_of_samples,\n",
    "                                         sample_size))(x), 'g')\n",
    "    plt.show()"
   ]
  },
  {
   "cell_type": "code",
   "execution_count": 6,
   "metadata": {},
   "outputs": [
    {
     "data": {
      "image/png": "[encoded data removed]",
      "text/plain": [
       "<Figure size 1080x720 with 1 Axes>"
      ]
     },
     "metadata": {
      "needs_background": "light"
     },
     "output_type": "display_data"
    }
   ],
   "source": [
    "build_pvalue_plots(number_of_samples=200, sample_size=20)"
   ]
  },
  {
   "cell_type": "code",
   "execution_count": 7,
   "metadata": {},
   "outputs": [
    {
     "data": {
      "image/png": "[encoded data removed]",
      "text/plain": [
       "<Figure size 1080x720 with 1 Axes>"
      ]
     },
     "metadata": {
      "needs_background": "light"
     },
     "output_type": "display_data"
    }
   ],
   "source": [
    "build_pvalue_plots(number_of_samples=200, sample_size=100)"
   ]
  },
  {
   "cell_type": "markdown",
   "metadata": {},
   "source": [
    "# №2"
   ]
  },
  {
   "cell_type": "markdown",
   "metadata": {},
   "source": [
    "### Условие:"
   ]
  },
  {
   "cell_type": "markdown",
   "metadata": {},
   "source": [
    "В файле Pulse.csv указаны данные о замере пульса дважды через небольшое время.\n",
    "\n",
    "Студенты с показателем ran = 1 между замерами должны были бежать, студенты с показателем ran = 2 сидеть.\n",
    "\n",
    "Показатели Smokes, Alcohol принимают 1, если студент употребляет сигареты и алкоголь\n",
    "и 2 иначе.\n",
    "\n",
    "Exercise — как часто студент занимается физическими нагрузками (1 — часто, 3 — редко).\n",
    "\n",
    "Как пульс зависит от образа жизни? Изменение пульса у бежавших студентов? Если ли значимая разница между изменением пульса в разные годы?"
   ]
  },
  {
   "cell_type": "markdown",
   "metadata": {},
   "source": [
    "### Решение:"
   ]
  },
  {
   "cell_type": "code",
   "execution_count": 8,
   "metadata": {},
   "outputs": [
    {
     "data": {
      "text/html": [
       "<div>\n",
       "<style scoped>\n",
       "    .dataframe tbody tr th:only-of-type {\n",
       "        vertical-align: middle;\n",
       "    }\n",
       "\n",
       "    .dataframe tbody tr th {\n",
       "        vertical-align: top;\n",
       "    }\n",
       "\n",
       "    .dataframe thead th {\n",
       "        text-align: right;\n",
       "    }\n",
       "</style>\n",
       "<table border=\"1\" class=\"dataframe\">\n",
       "  <thead>\n",
       "    <tr style=\"text-align: right;\">\n",
       "      <th></th>\n",
       "      <th>Height</th>\n",
       "      <th>Weight</th>\n",
       "      <th>Age</th>\n",
       "      <th>Gender</th>\n",
       "      <th>Smokes</th>\n",
       "      <th>Alcohol</th>\n",
       "      <th>Exercise</th>\n",
       "      <th>Ran</th>\n",
       "      <th>Pulse1</th>\n",
       "      <th>Pulse2</th>\n",
       "      <th>Year</th>\n",
       "    </tr>\n",
       "  </thead>\n",
       "  <tbody>\n",
       "    <tr>\n",
       "      <th>0</th>\n",
       "      <td>173</td>\n",
       "      <td>57.0</td>\n",
       "      <td>18</td>\n",
       "      <td>2</td>\n",
       "      <td>2</td>\n",
       "      <td>1</td>\n",
       "      <td>2</td>\n",
       "      <td>2</td>\n",
       "      <td>86.0</td>\n",
       "      <td>88.0</td>\n",
       "      <td>93</td>\n",
       "    </tr>\n",
       "    <tr>\n",
       "      <th>1</th>\n",
       "      <td>179</td>\n",
       "      <td>58.0</td>\n",
       "      <td>19</td>\n",
       "      <td>2</td>\n",
       "      <td>2</td>\n",
       "      <td>1</td>\n",
       "      <td>2</td>\n",
       "      <td>1</td>\n",
       "      <td>82.0</td>\n",
       "      <td>150.0</td>\n",
       "      <td>93</td>\n",
       "    </tr>\n",
       "    <tr>\n",
       "      <th>2</th>\n",
       "      <td>167</td>\n",
       "      <td>62.0</td>\n",
       "      <td>18</td>\n",
       "      <td>2</td>\n",
       "      <td>2</td>\n",
       "      <td>1</td>\n",
       "      <td>1</td>\n",
       "      <td>1</td>\n",
       "      <td>96.0</td>\n",
       "      <td>176.0</td>\n",
       "      <td>93</td>\n",
       "    </tr>\n",
       "    <tr>\n",
       "      <th>3</th>\n",
       "      <td>195</td>\n",
       "      <td>84.0</td>\n",
       "      <td>18</td>\n",
       "      <td>1</td>\n",
       "      <td>2</td>\n",
       "      <td>1</td>\n",
       "      <td>1</td>\n",
       "      <td>2</td>\n",
       "      <td>71.0</td>\n",
       "      <td>73.0</td>\n",
       "      <td>93</td>\n",
       "    </tr>\n",
       "    <tr>\n",
       "      <th>4</th>\n",
       "      <td>173</td>\n",
       "      <td>64.0</td>\n",
       "      <td>18</td>\n",
       "      <td>2</td>\n",
       "      <td>2</td>\n",
       "      <td>1</td>\n",
       "      <td>3</td>\n",
       "      <td>2</td>\n",
       "      <td>90.0</td>\n",
       "      <td>88.0</td>\n",
       "      <td>93</td>\n",
       "    </tr>\n",
       "  </tbody>\n",
       "</table>\n",
       "</div>"
      ],
      "text/plain": [
       "   Height  Weight  Age  Gender  Smokes  Alcohol  Exercise  Ran  Pulse1  \\\n",
       "0     173    57.0   18       2       2        1         2    2    86.0   \n",
       "1     179    58.0   19       2       2        1         2    1    82.0   \n",
       "2     167    62.0   18       2       2        1         1    1    96.0   \n",
       "3     195    84.0   18       1       2        1         1    2    71.0   \n",
       "4     173    64.0   18       2       2        1         3    2    90.0   \n",
       "\n",
       "   Pulse2  Year  \n",
       "0    88.0    93  \n",
       "1   150.0    93  \n",
       "2   176.0    93  \n",
       "3    73.0    93  \n",
       "4    88.0    93  "
      ]
     },
     "execution_count": 8,
     "metadata": {},
     "output_type": "execute_result"
    }
   ],
   "source": [
    "pulse_df = pd.read_csv(\"Pulse.csv\", sep='\\t')\n",
    "pulse_df.head()"
   ]
  },
  {
   "cell_type": "markdown",
   "metadata": {},
   "source": [
    "#### Как пульс и изменение пульса у бежавших студентов зависит от образа жизни?"
   ]
  },
  {
   "cell_type": "code",
   "execution_count": 9,
   "metadata": {},
   "outputs": [],
   "source": [
    "pulse_df['Pulse diff'] = pulse_df['Pulse2'] - pulse_df['Pulse1']"
   ]
  },
  {
   "cell_type": "markdown",
   "metadata": {},
   "source": [
    "Для начала посмотрим, как пульс и его изменение зависят от того, насколько человек интенсивно занимается спортом. В качестве первого шага проверим однородность данных с помощью k-sample Anderson-Darling."
   ]
  },
  {
   "cell_type": "code",
   "execution_count": 10,
   "metadata": {},
   "outputs": [],
   "source": [
    "first_exercise_data = pulse_df.loc[pulse_df[\"Exercise\"] == 1]\n",
    "second_exercise_data = pulse_df.loc[pulse_df[\"Exercise\"] == 2]\n",
    "third_exercise_data = pulse_df.loc[pulse_df[\"Exercise\"] == 3]"
   ]
  },
  {
   "cell_type": "code",
   "execution_count": 11,
   "metadata": {},
   "outputs": [
    {
     "data": {
      "text/plain": [
       "14"
      ]
     },
     "execution_count": 11,
     "metadata": {},
     "output_type": "execute_result"
    }
   ],
   "source": [
    "first_exercise_data[\"Pulse1\"].size"
   ]
  },
  {
   "cell_type": "code",
   "execution_count": 12,
   "metadata": {},
   "outputs": [
    {
     "data": {
      "text/plain": [
       "59"
      ]
     },
     "execution_count": 12,
     "metadata": {},
     "output_type": "execute_result"
    }
   ],
   "source": [
    "second_exercise_data[\"Pulse1\"].size"
   ]
  },
  {
   "cell_type": "code",
   "execution_count": 13,
   "metadata": {},
   "outputs": [
    {
     "data": {
      "text/plain": [
       "37"
      ]
     },
     "execution_count": 13,
     "metadata": {},
     "output_type": "execute_result"
    }
   ],
   "source": [
    "third_exercise_data[\"Pulse1\"].size"
   ]
  },
  {
   "cell_type": "code",
   "execution_count": 14,
   "metadata": {},
   "outputs": [
    {
     "data": {
      "text/plain": [
       "Anderson_ksampResult(statistic=2.397433117349596, critical_values=array([0.44925884, 1.3052767 , 1.9434184 , 2.57696569, 3.41634856,\n",
       "       4.07210043, 5.56419101]), significance_level=0.03040937125519201)"
      ]
     },
     "execution_count": 14,
     "metadata": {},
     "output_type": "execute_result"
    }
   ],
   "source": [
    "stats.anderson_ksamp([first_exercise_data[\"Pulse1\"],\n",
    "                      second_exercise_data[\"Pulse1\"],\n",
    "                      third_exercise_data[\"Pulse1\"]])"
   ]
  },
  {
   "cell_type": "markdown",
   "metadata": {},
   "source": [
    "Видим, что данные неоднородны. Выясним, какие из выборок однородны с помощью критериев Манна-Уитни и BWS."
   ]
  },
  {
   "cell_type": "code",
   "execution_count": 55,
   "metadata": {},
   "outputs": [
    {
     "data": {
      "text/plain": [
       "0.054"
      ]
     },
     "execution_count": 55,
     "metadata": {},
     "output_type": "execute_result"
    }
   ],
   "source": [
    "permutation_method(first_exercise_data[\"Pulse1\"],\n",
    "                   second_exercise_data[\"Pulse1\"],\n",
    "                   BWStest_statistic, 500)"
   ]
  },
  {
   "cell_type": "code",
   "execution_count": 54,
   "metadata": {},
   "outputs": [
    {
     "data": {
      "text/plain": [
       "0.104"
      ]
     },
     "execution_count": 54,
     "metadata": {},
     "output_type": "execute_result"
    }
   ],
   "source": [
    "permutation_method(second_exercise_data[\"Pulse1\"],\n",
    "                   third_exercise_data[\"Pulse1\"],\n",
    "                   BWStest_statistic, 500)"
   ]
  },
  {
   "cell_type": "code",
   "execution_count": 53,
   "metadata": {},
   "outputs": [
    {
     "data": {
      "text/plain": [
       "0.008"
      ]
     },
     "execution_count": 53,
     "metadata": {},
     "output_type": "execute_result"
    }
   ],
   "source": [
    "permutation_method(first_exercise_data[\"Pulse1\"],\n",
    "                   third_exercise_data[\"Pulse1\"],\n",
    "                   BWStest_statistic, 500)"
   ]
  },
  {
   "cell_type": "markdown",
   "metadata": {},
   "source": [
    "Видим, что третья и первая выборки неоднородны, а p-value в остальном случае хоть и больше 0.05, но все еще довольно мал.\n",
    "\n",
    "Теперь применим для тех же выборок критерий Манна-Уитни с альтернативой доминирования."
   ]
  },
  {
   "cell_type": "code",
   "execution_count": 56,
   "metadata": {},
   "outputs": [
    {
     "data": {
      "text/plain": [
       "MannwhitneyuResult(statistic=286.0, pvalue=0.9631441661296231)"
      ]
     },
     "execution_count": 56,
     "metadata": {},
     "output_type": "execute_result"
    }
   ],
   "source": [
    "stats.mannwhitneyu(first_exercise_data[\"Pulse1\"],\n",
    "                   second_exercise_data[\"Pulse1\"],\n",
    "                   alternative='less')"
   ]
  },
  {
   "cell_type": "code",
   "execution_count": 57,
   "metadata": {},
   "outputs": [
    {
     "data": {
      "text/plain": [
       "MannwhitneyuResult(statistic=888.5, pvalue=0.9374964936087348)"
      ]
     },
     "execution_count": 57,
     "metadata": {},
     "output_type": "execute_result"
    }
   ],
   "source": [
    "stats.mannwhitneyu(second_exercise_data[\"Pulse1\"],\n",
    "                   third_exercise_data[\"Pulse1\"],\n",
    "                   alternative='less')"
   ]
  },
  {
   "cell_type": "code",
   "execution_count": 58,
   "metadata": {},
   "outputs": [
    {
     "data": {
      "text/plain": [
       "MannwhitneyuResult(statistic=136.0, pvalue=0.9954722213124471)"
      ]
     },
     "execution_count": 58,
     "metadata": {},
     "output_type": "execute_result"
    }
   ],
   "source": [
    "stats.mannwhitneyu(first_exercise_data[\"Pulse1\"],\n",
    "                   third_exercise_data[\"Pulse1\"],\n",
    "                   alternative='less')"
   ]
  },
  {
   "cell_type": "markdown",
   "metadata": {},
   "source": [
    "Видим, что во всех случаях p-value близок к единице, а значит, согласно критерию Манна-Уитни, чем реже человек занимается спортом, тем больше у него пульс до физических нагрузок.\n",
    "\n",
    "Теперь рассмотрим, насколько однородно изменение пульса для тех, кто бегал относительно того, насколько интенсивно человек занимается спортом."
   ]
  },
  {
   "cell_type": "code",
   "execution_count": 21,
   "metadata": {},
   "outputs": [],
   "source": [
    "first_exercise_pulse_diff = \\\n",
    "    first_exercise_data.loc[first_exercise_data[\"Ran\"] == 1][\"Pulse diff\"]\n",
    "second_exercise_pulse_diff = \\\n",
    "    second_exercise_data.loc[second_exercise_data[\"Ran\"] == 1][\"Pulse diff\"]\n",
    "third_exercise_pulse_diff = \\\n",
    "    third_exercise_data.loc[third_exercise_data[\"Ran\"] == 1][\"Pulse diff\"]"
   ]
  },
  {
   "cell_type": "code",
   "execution_count": 22,
   "metadata": {},
   "outputs": [
    {
     "data": {
      "text/plain": [
       "7"
      ]
     },
     "execution_count": 22,
     "metadata": {},
     "output_type": "execute_result"
    }
   ],
   "source": [
    "first_exercise_pulse_diff.size"
   ]
  },
  {
   "cell_type": "code",
   "execution_count": 23,
   "metadata": {},
   "outputs": [
    {
     "data": {
      "text/plain": [
       "25"
      ]
     },
     "execution_count": 23,
     "metadata": {},
     "output_type": "execute_result"
    }
   ],
   "source": [
    "second_exercise_pulse_diff.size"
   ]
  },
  {
   "cell_type": "code",
   "execution_count": 24,
   "metadata": {},
   "outputs": [
    {
     "data": {
      "text/plain": [
       "14"
      ]
     },
     "execution_count": 24,
     "metadata": {},
     "output_type": "execute_result"
    }
   ],
   "source": [
    "third_exercise_pulse_diff.size"
   ]
  },
  {
   "cell_type": "code",
   "execution_count": 25,
   "metadata": {},
   "outputs": [
    {
     "name": "stderr",
     "output_type": "stream",
     "text": [
      "/home/dmitrii/anaconda3/lib/python3.7/site-packages/ipykernel_launcher.py:3: UserWarning: p-value capped: true value larger than 0.25\n",
      "  This is separate from the ipykernel package so we can avoid doing imports until\n"
     ]
    },
    {
     "data": {
      "text/plain": [
       "Anderson_ksampResult(statistic=-1.1223952617603856, critical_values=array([0.44925884, 1.3052767 , 1.9434184 , 2.57696569, 3.41634856,\n",
       "       4.07210043, 5.56419101]), significance_level=0.25)"
      ]
     },
     "execution_count": 25,
     "metadata": {},
     "output_type": "execute_result"
    }
   ],
   "source": [
    "stats.anderson_ksamp([first_exercise_pulse_diff,\n",
    "                      second_exercise_pulse_diff,\n",
    "                      third_exercise_pulse_diff])"
   ]
  },
  {
   "cell_type": "markdown",
   "metadata": {},
   "source": [
    "По результатам k-sample Anderson-Darling выборки однородны. Убедимся в их попарной однородности с помощью критерия BWS."
   ]
  },
  {
   "cell_type": "code",
   "execution_count": 26,
   "metadata": {},
   "outputs": [
    {
     "data": {
      "text/plain": [
       "0.968"
      ]
     },
     "execution_count": 26,
     "metadata": {},
     "output_type": "execute_result"
    }
   ],
   "source": [
    "permutation_method(first_exercise_pulse_diff, second_exercise_pulse_diff,\n",
    "                   BWStest_statistic, 500)"
   ]
  },
  {
   "cell_type": "code",
   "execution_count": 27,
   "metadata": {},
   "outputs": [
    {
     "data": {
      "text/plain": [
       "0.604"
      ]
     },
     "execution_count": 27,
     "metadata": {},
     "output_type": "execute_result"
    }
   ],
   "source": [
    "permutation_method(second_exercise_pulse_diff, third_exercise_pulse_diff,\n",
    "                   BWStest_statistic, 500)"
   ]
  },
  {
   "cell_type": "code",
   "execution_count": 28,
   "metadata": {},
   "outputs": [
    {
     "data": {
      "text/plain": [
       "0.906"
      ]
     },
     "execution_count": 28,
     "metadata": {},
     "output_type": "execute_result"
    }
   ],
   "source": [
    "permutation_method(first_exercise_pulse_diff, third_exercise_pulse_diff,\n",
    "                   BWStest_statistic, 500)"
   ]
  },
  {
   "cell_type": "markdown",
   "metadata": {},
   "source": [
    "Как видим, во всех трех случаях BWS критерий демонстрирует большой p-value, поэтому можно принять гипотезу однородности данных изменения пульса у бежавших студентов относительно их любви к спорту."
   ]
  },
  {
   "cell_type": "markdown",
   "metadata": {},
   "source": [
    "Проведем аналогичное исследование относильно курения и употребления алкоголя. Сначала рассмотрим курение."
   ]
  },
  {
   "cell_type": "code",
   "execution_count": 29,
   "metadata": {},
   "outputs": [],
   "source": [
    "smoking_people_data = pulse_df.loc[pulse_df[\"Smokes\"] == 1]\n",
    "not_smoking_people_data = pulse_df.loc[pulse_df[\"Smokes\"] == 2]"
   ]
  },
  {
   "cell_type": "code",
   "execution_count": 30,
   "metadata": {},
   "outputs": [
    {
     "data": {
      "text/plain": [
       "11"
      ]
     },
     "execution_count": 30,
     "metadata": {},
     "output_type": "execute_result"
    }
   ],
   "source": [
    "smoking_people_data[\"Pulse1\"].size"
   ]
  },
  {
   "cell_type": "code",
   "execution_count": 31,
   "metadata": {},
   "outputs": [
    {
     "data": {
      "text/plain": [
       "99"
      ]
     },
     "execution_count": 31,
     "metadata": {},
     "output_type": "execute_result"
    }
   ],
   "source": [
    "not_smoking_people_data[\"Pulse1\"].size"
   ]
  },
  {
   "cell_type": "code",
   "execution_count": 32,
   "metadata": {},
   "outputs": [
    {
     "data": {
      "text/plain": [
       "0.89"
      ]
     },
     "execution_count": 32,
     "metadata": {},
     "output_type": "execute_result"
    }
   ],
   "source": [
    "permutation_method(smoking_people_data[\"Pulse1\"],\n",
    "                   not_smoking_people_data[\"Pulse1\"],\n",
    "                   BWStest_statistic, 500)"
   ]
  },
  {
   "cell_type": "code",
   "execution_count": 33,
   "metadata": {},
   "outputs": [
    {
     "data": {
      "text/plain": [
       "MannwhitneyuResult(statistic=473.0, pvalue=0.23939523427493187)"
      ]
     },
     "execution_count": 33,
     "metadata": {},
     "output_type": "execute_result"
    }
   ],
   "source": [
    "stats.mannwhitneyu(smoking_people_data[\"Pulse1\"],\n",
    "                   not_smoking_people_data[\"Pulse1\"])"
   ]
  },
  {
   "cell_type": "markdown",
   "metadata": {},
   "source": [
    "И критерий Манна-Уитни, и BWS принимают гипотезу однородности данных, а значит пульс незначимо зависит от того, курит ли человек. Здесь, правда, возможна ошибка в выводах, так как выборка курящих людей слишком мала, что может быть фатально для асимптотических критериев.\n",
    "\n",
    "Посмотрим на подвыборки тех студентов, которым пришлось бежать."
   ]
  },
  {
   "cell_type": "code",
   "execution_count": 34,
   "metadata": {},
   "outputs": [
    {
     "name": "stderr",
     "output_type": "stream",
     "text": [
      "4:80: E501 line too long (82 > 79 characters)\n"
     ]
    }
   ],
   "source": [
    "smoking_people_pulse_diff = \\\n",
    "    smoking_people_data.loc[smoking_people_data[\"Ran\"] == 1][\"Pulse diff\"]\n",
    "not_smoking_pulse_diff = \\\n",
    "    not_smoking_people_data.loc[not_smoking_people_data[\"Ran\"] == 1][\"Pulse diff\"]"
   ]
  },
  {
   "cell_type": "code",
   "execution_count": 35,
   "metadata": {},
   "outputs": [
    {
     "data": {
      "text/plain": [
       "3"
      ]
     },
     "execution_count": 35,
     "metadata": {},
     "output_type": "execute_result"
    }
   ],
   "source": [
    "smoking_people_pulse_diff.size"
   ]
  },
  {
   "cell_type": "code",
   "execution_count": 36,
   "metadata": {},
   "outputs": [
    {
     "data": {
      "text/plain": [
       "43"
      ]
     },
     "execution_count": 36,
     "metadata": {},
     "output_type": "execute_result"
    }
   ],
   "source": [
    "not_smoking_pulse_diff.size"
   ]
  },
  {
   "cell_type": "markdown",
   "metadata": {},
   "source": [
    "Видим, что выборка курящих и бежавших людей крайне мала - всего 3 человека, поэтому пропустим их сравнение.\n",
    "\n",
    "Теперь проделаем аналогичные действия относительно употребления алкоголя."
   ]
  },
  {
   "cell_type": "code",
   "execution_count": 37,
   "metadata": {},
   "outputs": [],
   "source": [
    "drinking_people_data = pulse_df.loc[pulse_df[\"Alcohol\"] == 1]\n",
    "not_drinking_people_data = pulse_df.loc[pulse_df[\"Alcohol\"] == 2]"
   ]
  },
  {
   "cell_type": "code",
   "execution_count": 38,
   "metadata": {},
   "outputs": [
    {
     "data": {
      "text/plain": [
       "68"
      ]
     },
     "execution_count": 38,
     "metadata": {},
     "output_type": "execute_result"
    }
   ],
   "source": [
    "drinking_people_data[\"Pulse1\"].size"
   ]
  },
  {
   "cell_type": "code",
   "execution_count": 39,
   "metadata": {},
   "outputs": [
    {
     "data": {
      "text/plain": [
       "42"
      ]
     },
     "execution_count": 39,
     "metadata": {},
     "output_type": "execute_result"
    }
   ],
   "source": [
    "not_drinking_people_data[\"Pulse1\"].size"
   ]
  },
  {
   "cell_type": "code",
   "execution_count": 40,
   "metadata": {},
   "outputs": [
    {
     "data": {
      "text/plain": [
       "0.66"
      ]
     },
     "execution_count": 40,
     "metadata": {},
     "output_type": "execute_result"
    }
   ],
   "source": [
    "permutation_method(drinking_people_data[\"Pulse1\"],\n",
    "                   not_drinking_people_data[\"Pulse1\"],\n",
    "                   BWStest_statistic, 500)"
   ]
  },
  {
   "cell_type": "code",
   "execution_count": 41,
   "metadata": {},
   "outputs": [
    {
     "data": {
      "text/plain": [
       "MannwhitneyuResult(statistic=1418.0, pvalue=0.4766681863495431)"
      ]
     },
     "execution_count": 41,
     "metadata": {},
     "output_type": "execute_result"
    }
   ],
   "source": [
    "stats.mannwhitneyu(drinking_people_data[\"Pulse1\"],\n",
    "                   not_drinking_people_data[\"Pulse1\"])"
   ]
  },
  {
   "cell_type": "markdown",
   "metadata": {},
   "source": [
    "Опять же и критерий Манна-Уитни, и BWS принимают гипотезу однородности данных, а значит пульс незначимо зависит от того, выпивает ли человек.\n",
    "\n",
    "Теперь проведем анализ разницы пульса для бежавших студентов."
   ]
  },
  {
   "cell_type": "code",
   "execution_count": 42,
   "metadata": {},
   "outputs": [
    {
     "name": "stderr",
     "output_type": "stream",
     "text": [
      "4:80: E501 line too long (84 > 79 characters)\n"
     ]
    }
   ],
   "source": [
    "drinking_people_pulse_diff = \\\n",
    "    drinking_people_data.loc[drinking_people_data[\"Ran\"] == 1][\"Pulse diff\"]\n",
    "not_drinking_people_pulse_diff = \\\n",
    "    not_drinking_people_data.loc[not_drinking_people_data[\"Ran\"] == 1][\"Pulse diff\"]"
   ]
  },
  {
   "cell_type": "code",
   "execution_count": 43,
   "metadata": {},
   "outputs": [
    {
     "data": {
      "text/plain": [
       "31"
      ]
     },
     "execution_count": 43,
     "metadata": {},
     "output_type": "execute_result"
    }
   ],
   "source": [
    "drinking_people_pulse_diff.size"
   ]
  },
  {
   "cell_type": "code",
   "execution_count": 44,
   "metadata": {},
   "outputs": [
    {
     "data": {
      "text/plain": [
       "15"
      ]
     },
     "execution_count": 44,
     "metadata": {},
     "output_type": "execute_result"
    }
   ],
   "source": [
    "not_drinking_people_pulse_diff.size"
   ]
  },
  {
   "cell_type": "code",
   "execution_count": 45,
   "metadata": {},
   "outputs": [
    {
     "data": {
      "text/plain": [
       "0.828"
      ]
     },
     "execution_count": 45,
     "metadata": {},
     "output_type": "execute_result"
    }
   ],
   "source": [
    "permutation_method(drinking_people_pulse_diff,\n",
    "                   not_drinking_people_pulse_diff,\n",
    "                   BWStest_statistic, 500)"
   ]
  },
  {
   "cell_type": "code",
   "execution_count": 46,
   "metadata": {},
   "outputs": [
    {
     "data": {
      "text/plain": [
       "MannwhitneyuResult(statistic=227.0, pvalue=0.45334021875640623)"
      ]
     },
     "execution_count": 46,
     "metadata": {},
     "output_type": "execute_result"
    }
   ],
   "source": [
    "stats.mannwhitneyu(drinking_people_pulse_diff,\n",
    "                   not_drinking_people_pulse_diff)"
   ]
  },
  {
   "cell_type": "markdown",
   "metadata": {},
   "source": [
    "Как видим, критерии BWS и Манна-Уитни демонстрирует большой p-value, поэтому можно принять гипотезу однородности данных изменения пульса у бежавших студентов относительно их любви к алкоголю.\n"
   ]
  },
  {
   "cell_type": "markdown",
   "metadata": {},
   "source": [
    "**Вывод**: алкоголь и курение незначительно влияют на пульс человека в отличие от того, насколько интенсивно человек занимается спортом. При этом изменение пульса после бега в целом не зависит от того, какой образ жизни человек ведет."
   ]
  },
  {
   "cell_type": "markdown",
   "metadata": {},
   "source": [
    "**Если ли значимая разница между изменением пульса в разные годы?**"
   ]
  },
  {
   "cell_type": "code",
   "execution_count": 47,
   "metadata": {},
   "outputs": [],
   "source": [
    "year_to_pulse_diff = {}\n",
    "for year, df_slice in pulse_df.groupby('Year'):\n",
    "    year_to_pulse_diff[year] = df_slice[\"Pulse diff\"]"
   ]
  },
  {
   "cell_type": "code",
   "execution_count": 48,
   "metadata": {},
   "outputs": [
    {
     "name": "stderr",
     "output_type": "stream",
     "text": [
      "/home/dmitrii/anaconda3/lib/python3.7/site-packages/ipykernel_launcher.py:1: UserWarning: p-value capped: true value larger than 0.25\n",
      "  \"\"\"Entry point for launching an IPython kernel.\n"
     ]
    },
    {
     "data": {
      "text/plain": [
       "Anderson_ksampResult(statistic=-1.2929933692305589, critical_values=array([0.52625, 1.32975, 1.8935 , 2.43675, 3.138  , 3.66875, 4.854  ]), significance_level=0.25)"
      ]
     },
     "execution_count": 48,
     "metadata": {},
     "output_type": "execute_result"
    }
   ],
   "source": [
    "stats.anderson_ksamp(year_to_pulse_diff.values())"
   ]
  },
  {
   "cell_type": "markdown",
   "metadata": {},
   "source": [
    "Как видим, ее нет."
   ]
  },
  {
   "cell_type": "markdown",
   "metadata": {},
   "source": [
    "# №3"
   ]
  },
  {
   "cell_type": "markdown",
   "metadata": {},
   "source": [
    "### Условие:"
   ]
  },
  {
   "cell_type": "markdown",
   "metadata": {},
   "source": [
    "В файле taylor.txt содержится информация о результатах австралийского игрока в крикет Марка Тэйлора. Посчитано, сколько очков он набирал в первом и во втором раундах игры (* означает, что во втором раунде он не появлялся). Можно ли утверждать, что удачный первый раунд помогает набирать очки во втором?"
   ]
  },
  {
   "cell_type": "markdown",
   "metadata": {},
   "source": [
    "### Решение:"
   ]
  },
  {
   "cell_type": "code",
   "execution_count": 3,
   "metadata": {
    "scrolled": true
   },
   "outputs": [
    {
     "data": {
      "text/html": [
       "<div>\n",
       "<style scoped>\n",
       "    .dataframe tbody tr th:only-of-type {\n",
       "        vertical-align: middle;\n",
       "    }\n",
       "\n",
       "    .dataframe tbody tr th {\n",
       "        vertical-align: top;\n",
       "    }\n",
       "\n",
       "    .dataframe thead th {\n",
       "        text-align: right;\n",
       "    }\n",
       "</style>\n",
       "<table border=\"1\" class=\"dataframe\">\n",
       "  <thead>\n",
       "    <tr style=\"text-align: right;\">\n",
       "      <th></th>\n",
       "      <th>First</th>\n",
       "      <th>Second</th>\n",
       "    </tr>\n",
       "  </thead>\n",
       "  <tbody>\n",
       "    <tr>\n",
       "      <th>0</th>\n",
       "      <td>136</td>\n",
       "      <td>60</td>\n",
       "    </tr>\n",
       "    <tr>\n",
       "      <th>1</th>\n",
       "      <td>62</td>\n",
       "      <td>27</td>\n",
       "    </tr>\n",
       "    <tr>\n",
       "      <th>2</th>\n",
       "      <td>85</td>\n",
       "      <td>37</td>\n",
       "    </tr>\n",
       "    <tr>\n",
       "      <th>4</th>\n",
       "      <td>71</td>\n",
       "      <td>48</td>\n",
       "    </tr>\n",
       "    <tr>\n",
       "      <th>6</th>\n",
       "      <td>9</td>\n",
       "      <td>164</td>\n",
       "    </tr>\n",
       "  </tbody>\n",
       "</table>\n",
       "</div>"
      ],
      "text/plain": [
       "   First  Second\n",
       "0    136      60\n",
       "1     62      27\n",
       "2     85      37\n",
       "4     71      48\n",
       "6      9     164"
      ]
     },
     "execution_count": 3,
     "metadata": {},
     "output_type": "execute_result"
    }
   ],
   "source": [
    "taylor_df = pd.read_csv(\"taylor.txt\", sep='\\t')\n",
    "taylor_df = taylor_df.drop(columns=\"Unnamed: 2\")\n",
    "taylor_df = taylor_df.loc[taylor_df['Second'] != \"*\"]\n",
    "taylor_df[\"Second\"] = pd.to_numeric(taylor_df[\"Second\"])\n",
    "taylor_df.head()"
   ]
  },
  {
   "cell_type": "markdown",
   "metadata": {},
   "source": [
    "Разделим наш dataframe на 2 половины: в первую попадут те строки, которые меньше медианы значений очков за первый раунд, а во второй - все остальные. Соответственно так мы поделим все игры на успешные и неуспешные по первому раунду."
   ]
  },
  {
   "cell_type": "code",
   "execution_count": 5,
   "metadata": {},
   "outputs": [],
   "source": [
    "first_round_median = taylor_df[\"First\"].median()\n",
    "less_points_df = taylor_df.loc[taylor_df[\"First\"] < first_round_median]\n",
    "greater_points_df = taylor_df.loc[taylor_df[\"First\"] >= first_round_median]"
   ]
  },
  {
   "cell_type": "markdown",
   "metadata": {},
   "source": [
    "Для ответа на вопрос, влияет ли успешность первого раунда на успешность второго, нужно выполняется ли гипотеза доминирования для очков во втором раунде для двух полученных датафреймов. Проверим это с помощью критерия Манна-Уитни. Заодно и проверим однородность с помощью критерия BWS."
   ]
  },
  {
   "cell_type": "code",
   "execution_count": 24,
   "metadata": {},
   "outputs": [
    {
     "data": {
      "text/plain": [
       "0.244"
      ]
     },
     "execution_count": 24,
     "metadata": {},
     "output_type": "execute_result"
    }
   ],
   "source": [
    "permutation_method(less_points_df[\"Second\"],\n",
    "                   greater_points_df[\"Second\"],\n",
    "                   BWStest_statistic, 500)"
   ]
  },
  {
   "cell_type": "code",
   "execution_count": 14,
   "metadata": {},
   "outputs": [
    {
     "data": {
      "text/plain": [
       "MannwhitneyuResult(statistic=231.5, pvalue=0.08683809411856896)"
      ]
     },
     "execution_count": 14,
     "metadata": {},
     "output_type": "execute_result"
    }
   ],
   "source": [
    "stats.mannwhitneyu(less_points_df[\"Second\"], greater_points_df[\"Second\"], alternative=\"less\")"
   ]
  },
  {
   "cell_type": "markdown",
   "metadata": {},
   "source": [
    "Видим, что критерии BWS и Манна-Уитни не отвергают гипотезу однородности, а значит можно сказать, что успешный первый раунд не влияет на успешность второго."
   ]
  }
 ],
 "metadata": {
  "kernelspec": {
   "display_name": "Python 3",
   "language": "python",
   "name": "python3"
  },
  "language_info": {
   "codemirror_mode": {
    "name": "ipython",
    "version": 3
   },
   "file_extension": ".py",
   "mimetype": "text/x-python",
   "name": "python",
   "nbconvert_exporter": "python",
   "pygments_lexer": "ipython3",
   "version": "3.7.5"
  }
 },
 "nbformat": 4,
 "nbformat_minor": 4
}
