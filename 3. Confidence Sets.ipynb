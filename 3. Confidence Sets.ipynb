{
 "cells": [
  {
   "cell_type": "code",
   "execution_count": 453,
   "metadata": {},
   "outputs": [],
   "source": [
    "import matplotlib.pyplot as plt\n",
    "import seaborn as sns\n",
    "import numpy as np\n",
    "import pandas as pd\n",
    "from scipy.stats import chi2, norm\n",
    "import matplotlib.ticker as ticker"
   ]
  },
  {
   "cell_type": "markdown",
   "metadata": {},
   "source": [
    "# № 2"
   ]
  },
  {
   "cell_type": "markdown",
   "metadata": {},
   "source": [
    "ОМП для мультиномиального распределения: $$\\hat{p_i} = \\frac{n_i}{n}$$ Матрица ковариации: $$\\Sigma(\\hat{p})= \n",
    "\\begin{pmatrix}\n",
    "\\hat{p_1}(1-\\hat{p_1}) & -\\hat{p_1}\\hat{p_2} \\\\\n",
    "-\\hat{p_1}\\hat{p_2} & \\hat{p_2}(1-\\hat{p_2}) \n",
    "\\end{pmatrix}$$"
   ]
  },
  {
   "cell_type": "code",
   "execution_count": 147,
   "metadata": {},
   "outputs": [
    {
     "data": {
      "text/html": [
       "<div>\n",
       "<style scoped>\n",
       "    .dataframe tbody tr th:only-of-type {\n",
       "        vertical-align: middle;\n",
       "    }\n",
       "\n",
       "    .dataframe tbody tr th {\n",
       "        vertical-align: top;\n",
       "    }\n",
       "\n",
       "    .dataframe thead th {\n",
       "        text-align: right;\n",
       "    }\n",
       "</style>\n",
       "<table border=\"1\" class=\"dataframe\">\n",
       "  <thead>\n",
       "    <tr style=\"text-align: right;\">\n",
       "      <th></th>\n",
       "      <th>1</th>\n",
       "      <th>2</th>\n",
       "      <th>3</th>\n",
       "      <th>4</th>\n",
       "      <th>5</th>\n",
       "      <th>6</th>\n",
       "      <th>7</th>\n",
       "      <th>8</th>\n",
       "      <th>9</th>\n",
       "    </tr>\n",
       "  </thead>\n",
       "  <tbody>\n",
       "    <tr>\n",
       "      <th>0</th>\n",
       "      <td>3</td>\n",
       "      <td>10</td>\n",
       "      <td>16</td>\n",
       "      <td>13</td>\n",
       "      <td>16</td>\n",
       "      <td>19</td>\n",
       "      <td>18</td>\n",
       "      <td>13</td>\n",
       "      <td>10</td>\n",
       "    </tr>\n",
       "  </tbody>\n",
       "</table>\n",
       "</div>"
      ],
      "text/plain": [
       "   1   2   3   4   5   6   7   8   9\n",
       "0  3  10  16  13  16  19  18  13  10"
      ]
     },
     "execution_count": 147,
     "metadata": {},
     "output_type": "execute_result"
    }
   ],
   "source": [
    "input_table = pd.read_csv('test.csv')\n",
    "input_table"
   ]
  },
  {
   "cell_type": "code",
   "execution_count": 148,
   "metadata": {},
   "outputs": [],
   "source": [
    "input_array = np.array(input_table.iloc[0])"
   ]
  },
  {
   "cell_type": "code",
   "execution_count": 407,
   "metadata": {},
   "outputs": [],
   "source": [
    "def covariance_matrix(estimations_ls):\n",
    "    p1, p2 = estimations_ls\n",
    "    matrix = np.array([[p1*(1-p1), -p1*p2],\n",
    "                       [-p1*p2, p2*(1-p2)]]\n",
    "                     )\n",
    "    return matrix"
   ]
  },
  {
   "cell_type": "code",
   "execution_count": 408,
   "metadata": {},
   "outputs": [],
   "source": [
    "bad_guys = sum(input_array[:5])\n",
    "middle_guys = sum(input_array[5:7])\n",
    "good_guys = sum(input_array[7:])\n",
    "gen_count = sum(input_array)\n",
    "estimations = np.array([good_guys, middle_guys]) / gen_count\n",
    "cov_matrix = covariance_matrix(estimations)\n",
    "inv_matrix = np.linalg.inv(cov_matrix)"
   ]
  },
  {
   "cell_type": "code",
   "execution_count": 409,
   "metadata": {},
   "outputs": [],
   "source": [
    "p1 = np.linspace(0, 1, 1000)\n",
    "p2 = np.linspace(0, 1, 1000)\n",
    "P1, P2 = np.meshgrid(p1, p2)\n",
    "P1 = estimations[0] - P1\n",
    "P2 = estimations[1] - P2\n",
    "F = inv_matrix[0][0]*P1**2 + inv_matrix[1][1]*P2**2 + 2*inv_matrix[0][1]*P1*P2 "
   ]
  },
  {
   "cell_type": "code",
   "execution_count": 413,
   "metadata": {},
   "outputs": [
    {
     "data": {
      "image/png": "[encoded data removed]",
      "text/plain": [
       "<Figure size 432x288 with 1 Axes>"
      ]
     },
     "metadata": {
      "needs_background": "light"
     },
     "output_type": "display_data"
    }
   ],
   "source": [
    "alpha = 0.05\n",
    "quantile = chi2.ppf(q=1-alpha, df=2) / gen_count\n",
    "plt.contour(P1+estimations[0], P2+estimations[1], F, [quantile])\n",
    "plt.xlabel('P1')\n",
    "plt.ylabel('P2')\n",
    "plt.xlim([0, 0.5])\n",
    "plt.ylim([0.1, 0.6])\n",
    "plt.scatter(estimations[0], estimations[1], color='red')\n",
    "plt.show()"
   ]
  },
  {
   "cell_type": "markdown",
   "metadata": {},
   "source": [
    "# № 3"
   ]
  },
  {
   "cell_type": "code",
   "execution_count": 478,
   "metadata": {},
   "outputs": [],
   "source": [
    "input_str = str()\n",
    "with open('Inspection Data.txt', 'r') as file:\n",
    "    for row in file:\n",
    "        input_str += row\n",
    "input_list = input_str.split()\n",
    "input_list = np.array(input_list).astype(int)"
   ]
  },
  {
   "cell_type": "code",
   "execution_count": 479,
   "metadata": {},
   "outputs": [],
   "source": [
    "alpha = 0.05\n",
    "quantile = norm.ppf(1-alpha/2)"
   ]
  },
  {
   "cell_type": "code",
   "execution_count": 480,
   "metadata": {},
   "outputs": [],
   "source": [
    "mean = np.mean(input_list)\n",
    "size = len(input_list)\n",
    "m = 1/mean - quantile**2/(2*size*mean**2)\n",
    "h = quantile * np.sqrt(quantile**2 + 4*size*mean*(mean-1)) / (2*size*mean**2)"
   ]
  },
  {
   "cell_type": "code",
   "execution_count": 481,
   "metadata": {},
   "outputs": [
    {
     "name": "stdout",
     "output_type": "stream",
     "text": [
      "Confidence interval is (0.0892, 0.184)\n"
     ]
    }
   ],
   "source": [
    "print('Confidence interval is ({:.3}, {:.3})'.format(m-h, m+h))"
   ]
  },
  {
   "cell_type": "code",
   "execution_count": 485,
   "metadata": {},
   "outputs": [
    {
     "name": "stdout",
     "output_type": "stream",
     "text": [
      "MLE estimation is: 0.138\n"
     ]
    }
   ],
   "source": [
    "print('MLE estimation is: {:.3}'.format(1/mean))"
   ]
  }
 ],
 "metadata": {
  "kernelspec": {
   "display_name": "Python 3",
   "language": "python",
   "name": "python3"
  },
  "language_info": {
   "codemirror_mode": {
    "name": "ipython",
    "version": 3
   },
   "file_extension": ".py",
   "mimetype": "text/x-python",
   "name": "python",
   "nbconvert_exporter": "python",
   "pygments_lexer": "ipython3",
   "version": "3.7.6"
  }
 },
 "nbformat": 4,
 "nbformat_minor": 4
}
